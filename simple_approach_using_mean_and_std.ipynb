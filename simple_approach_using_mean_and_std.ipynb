{
 "cells": [
  {
   "cell_type": "markdown",
   "metadata": {},
   "source": [
    "# GSOE9820, University of New South Wales (Semester 2, 2017)\n",
    "\n",
    "## Film Prioritization\n",
    "The purpose of this case is to get experience in using a project \n",
    "priority system that ranks proposed projects by their contribution to the \n",
    "organization's objectives and strategic plan.\n",
    "Among a number of items in evaluation form, this repository focuses on the \n",
    "inference of expected profit on 7 different project proposals.\n",
    "\n",
    "## Assumption\n",
    "Given data are normally distributed. (Gaussian Distribution)\n",
    "\n",
    "## Objective\n",
    "The main opjectives are:\n",
    "  - To get gaussian distributions for each project by using mean and std from given information.\n",
    "  - To estimate the highest probability among P(X <= 18), P(18 < X < 22), and P(X >= 22).\n",
    "  \n",
    "\n",
    "## Given Data\n",
    "\n",
    "| Project Proposal 1            |     |     |     |\n",
    "| ----------------------------- |:---:|:---:|:---:|\n",
    "| Probability                   | 80% | 50% | 20% |\n",
    "| ROI                           | 8%  | 18% | 24% |\n",
    "\n",
    "| Project Proposal 2            |     |     |     |\n",
    "| ----------------------------- |:---:|:---:|:---:|\n",
    "| Probability                   | 80% | 50% | 20% |\n",
    "| ROI                           | 2%  | 20% | 30% |\n",
    "\n",
    "| Project Proposal 3            |     |     |     |\n",
    "| ----------------------------- |:---:|:---:|:---:|\n",
    "| Probability                   | 80% | 50% | 20% |\n",
    "| ROI                           | 12% | 14% | 18% |\n",
    "\n",
    "| Project Proposal 4            |     |     |     |\n",
    "| ----------------------------- |:---:|:---:|:---:|\n",
    "| Probability                   | 80% | 50% | 20% |\n",
    "| ROI                           | 15% | 20% | 24% |\n",
    "\n",
    "| Project Proposal 5            |     |     |     |\n",
    "| ----------------------------- |:---:|:---:|:---:|\n",
    "| Probability                   | 80% | 50% | 20% |\n",
    "| ROI                           | 8%  | 15% | 20% |\n",
    "\n",
    "| Project Proposal 6            |     |     |     |\n",
    "| ----------------------------- |:---:|:---:|:---:|\n",
    "| Probability                   | 80% | 50% | 20% |\n",
    "| ROI                           | 6%  | 18% | 25% |\n",
    "\n",
    "| Project Proposal 7            |     |     |     |\n",
    "| ----------------------------- |:---:|:---:|:---:|\n",
    "| Probability                   | 80% | 50% | 20% |\n",
    "| ROI                           | 9%  | 15% | 20% |\n"
   ]
  },
  {
   "cell_type": "code",
   "execution_count": 1,
   "metadata": {
    "collapsed": true
   },
   "outputs": [],
   "source": [
    "%matplotlib inline\n",
    "from scipy.stats import norm\n",
    "import matplotlib.pyplot as plt\n",
    "import numpy as np"
   ]
  },
  {
   "cell_type": "code",
   "execution_count": 2,
   "metadata": {
    "collapsed": true
   },
   "outputs": [],
   "source": [
    "def get_mean_std(prob, roi):\n",
    "    expectation = []\n",
    "    for i in range(len(prob)):\n",
    "        expectation.append(prob[i]*roi[i])\n",
    "    expectation = np.array(expectation)\n",
    "    mean = expectation.mean()\n",
    "    std = expectation.std()\n",
    "    return (mean, std)"
   ]
  },
  {
   "cell_type": "code",
   "execution_count": 4,
   "metadata": {},
   "outputs": [
    {
     "name": "stdout",
     "output_type": "stream",
     "text": [
      "[Project 1]\n",
      "P(X<=18) = 1.000000\n",
      "P(18<X<22) = 0.000000\n",
      "P(X>=22) = 0.000000\n",
      "\n",
      "[Project 2]\n",
      "P(X<=18) = 0.999798\n",
      "P(18<X<22) = 0.000201\n",
      "P(X>=22) = 0.000001\n",
      "\n",
      "[Project 3]\n",
      "P(X<=18) = 0.999998\n",
      "P(18<X<22) = 0.000002\n",
      "P(X>=22) = 0.000000\n",
      "\n",
      "[Project 4]\n",
      "P(X<=18) = 0.998595\n",
      "P(18<X<22) = 0.001397\n",
      "P(X>=22) = 0.000008\n",
      "\n",
      "[Project 5]\n",
      "P(X<=18) = 1.000000\n",
      "P(18<X<22) = 0.000000\n",
      "P(X>=22) = 0.000000\n",
      "\n",
      "[Project 6]\n",
      "P(X<=18) = 1.000000\n",
      "P(18<X<22) = 0.000000\n",
      "P(X>=22) = 0.000000\n",
      "\n",
      "[Project 7]\n",
      "P(X<=18) = 1.000000\n",
      "P(18<X<22) = 0.000000\n",
      "P(X>=22) = 0.000000\n",
      "\n"
     ]
    }
   ],
   "source": [
    "# Given Data\n",
    "# Caution! Index starts from zero\n",
    "prob_project = []\n",
    "roi_project = []\n",
    "prob_project.append([0.8, 0.5, 0.2])\n",
    "prob_project.append([0.8, 0.5, 0.2])\n",
    "prob_project.append([0.8, 0.5, 0.2])\n",
    "prob_project.append([0.8, 0.5, 0.2])\n",
    "prob_project.append([0.8, 0.5, 0.2])\n",
    "prob_project.append([0.8, 0.5, 0.2])\n",
    "prob_project.append([0.8, 0.5, 0.2])\n",
    "\n",
    "roi_project.append([8, 18, 24])\n",
    "roi_project.append([2, 20, 30])\n",
    "roi_project.append([12,14, 18])\n",
    "roi_project.append([15,20, 24])\n",
    "roi_project.append([8, 15, 20])\n",
    "roi_project.append([6, 18, 25])\n",
    "roi_project.append([9, 15, 20])\n",
    "\n",
    "for i in range(len(prob_project)):\n",
    "    # Get mean and std\n",
    "    mean, std = get_mean_std(prob_project[i], roi_project[i])\n",
    "    # Get normal distribution\n",
    "    dist = norm(mean, std)\n",
    "    # Inference of the expected profit\n",
    "    less_than_18 = dist.cdf(18)\n",
    "    between_18_and_22 = dist.cdf(22) - less_than_18\n",
    "    more_than_22 = 1. - dist.cdf(22)\n",
    "    \n",
    "    # Results\n",
    "    print(\"[Project {0:d}]\".format(i+1))\n",
    "    print(\"P(X<=18) = {0:f}\".format(less_than_18))\n",
    "    print(\"P(18<X<22) = {0:f}\".format(between_18_and_22))\n",
    "    print(\"P(X>=22) = {0:f}\".format(more_than_22))\n",
    "    print(\"\")"
   ]
  },
  {
   "cell_type": "markdown",
   "metadata": {},
   "source": [
    "# Conclusion\n",
    "P(X<=18) is obviously the highest for every project proposal."
   ]
  }
 ],
 "metadata": {
  "kernelspec": {
   "display_name": "python3.6",
   "language": "python",
   "name": "python3.6"
  },
  "language_info": {
   "codemirror_mode": {
    "name": "ipython",
    "version": 2
   },
   "file_extension": ".py",
   "mimetype": "text/x-python",
   "name": "python",
   "nbconvert_exporter": "python",
   "pygments_lexer": "ipython2",
   "version": "2.7.13"
  }
 },
 "nbformat": 4,
 "nbformat_minor": 2
}
